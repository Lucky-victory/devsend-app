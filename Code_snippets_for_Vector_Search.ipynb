{
  "nbformat": 4,
  "nbformat_minor": 0,
  "metadata": {
    "colab": {
      "provenance": [],
      "include_colab_link": true
    },
    "kernelspec": {
      "name": "python3",
      "display_name": "Python 3"
    },
    "language_info": {
      "name": "python"
    }
  },
  "cells": [
    {
      "cell_type": "markdown",
      "metadata": {
        "id": "view-in-github",
        "colab_type": "text"
      },
      "source": [
        "<a href=\"https://colab.research.google.com/github/Lucky-victory/devsend-app/blob/main/Code_snippets_for_Vector_Search.ipynb\" target=\"_parent\"><img src=\"https://colab.research.google.com/assets/colab-badge.svg\" alt=\"Open In Colab\"/></a>"
      ]
    },
    {
      "cell_type": "markdown",
      "source": [
        "# 0. Prerequsites"
      ],
      "metadata": {
        "id": "mcRagbTFCtkQ"
      }
    },
    {
      "cell_type": "code",
      "source": [
        "%%capture\n",
        "!pip install PyMySQL==1.1.0\n",
        "!pip install openai==1.27.0\n",
        "!pip install SQLAlchemy==2.0.30\n",
        "!pip install tidb-vector==0.0.9\n",
        "\n",
        "from sqlalchemy import Column, Integer, String, Text, create_engine, URL\n",
        "from google.colab import userdata\n",
        "from sqlalchemy.orm import Session, declarative_base\n",
        "from tidb_vector.sqlalchemy import VectorType\n",
        "\n",
        "import openai"
      ],
      "metadata": {
        "id": "H7GBL0x8CtFi"
      },
      "execution_count": 1,
      "outputs": []
    },
    {
      "cell_type": "markdown",
      "source": [
        "# 1. Connect to a TiDB Cloud Cluster"
      ],
      "metadata": {
        "id": "rEIutFAuCfB1"
      }
    },
    {
      "cell_type": "code",
      "execution_count": 4,
      "metadata": {
        "id": "XvOd0tLXCdL2"
      },
      "outputs": [],
      "source": [
        "def get_db_url():\n",
        "    return URL(\n",
        "        drivername=\"mysql+pymysql\",\n",
        "        username=userdata.get(\"TIDB_USER\"),\n",
        "        password=userdata.get(\"TIDB_PASSWORD\"),\n",
        "        host=userdata.get('TIDB_HOST'),\n",
        "        port=int(userdata.get(\"TIDB_PORT\")),\n",
        "        database=userdata.get(\"TIDB_DB_NAME\"),\n",
        "        query={\"ssl_verify_cert\": True, \"ssl_verify_identity\": True},\n",
        "    )\n",
        "\n",
        "engine = create_engine(get_db_url(), pool_recycle=300)"
      ]
    },
    {
      "cell_type": "markdown",
      "source": [
        "# 2. Create Table and Vector Index"
      ],
      "metadata": {
        "id": "FlcXrbveO8K_"
      }
    },
    {
      "cell_type": "code",
      "source": [
        "model_name = \"text-embedding-3-small\"\n",
        "dim_of_embedding_model = 1536\n",
        "\n",
        "Base = declarative_base()\n",
        "class Entity(Base):\n",
        "    __tablename__ = \"entity\"\n",
        "\n",
        "    id = Column(Integer, primary_key=True)\n",
        "    content = Column(Text)\n",
        "    content_vec = Column(\n",
        "        VectorType(dim=dim_of_embedding_model),\n",
        "        comment=\"hnsw(distance=l2)\"\n",
        "    )\n",
        "\n",
        "Base.metadata.create_all(engine)"
      ],
      "metadata": {
        "id": "Imxs62BgO75j"
      },
      "execution_count": 6,
      "outputs": []
    },
    {
      "cell_type": "markdown",
      "source": [
        "# 3. Create Embedding Vector and Save Data\n"
      ],
      "metadata": {
        "id": "7mkWug9mQ2vd"
      }
    },
    {
      "cell_type": "code",
      "source": [
        "def embedding(content):\n",
        "  open_ai_client = openai.OpenAI(api_key=userdata.get('OPENAI_API_KEY'))\n",
        "  return open_ai_client.embeddings.create(\n",
        "      input=[content], model=model_name).data[0].embedding\n",
        "\n",
        "tidb_content = 'TiDB is an open-source distributed SQL database that supports \\\n",
        "Hybrid Transactional and Analytical Processing (HTAP) workloads.'\n",
        "tikv_content = 'TiKV is an open-source, distributed, and transactional \\\n",
        "key-value database. Unlike other traditional NoSQL systems.'\n",
        "pd_content = 'The Placement Driver (PD) server is the metadata \\\n",
        "managing component of the entire cluster.'\n",
        "\n",
        "with Session(engine) as session:\n",
        "    session.add(Entity(content = tidb_content, content_vec = embedding(tidb_content)))\n",
        "    session.add(Entity(content = tikv_content, content_vec = embedding(tikv_content)))\n",
        "    session.add(Entity(content = pd_content, content_vec = embedding(pd_content)))\n",
        "    session.commit()"
      ],
      "metadata": {
        "id": "BeEqJVWhRAdo",
        "outputId": "cdfafbd2-9465-4bc9-c414-1aab0811c3aa",
        "colab": {
          "base_uri": "https://localhost:8080/",
          "height": 356
        }
      },
      "execution_count": 7,
      "outputs": [
        {
          "output_type": "error",
          "ename": "SecretNotFoundError",
          "evalue": "Secret OPENAI_API_KEY does not exist.",
          "traceback": [
            "\u001b[0;31m---------------------------------------------------------------------------\u001b[0m",
            "\u001b[0;31mSecretNotFoundError\u001b[0m                       Traceback (most recent call last)",
            "\u001b[0;32m/tmp/ipython-input-2960200067.py\u001b[0m in \u001b[0;36m<cell line: 0>\u001b[0;34m()\u001b[0m\n\u001b[1;32m     12\u001b[0m \u001b[0;34m\u001b[0m\u001b[0m\n\u001b[1;32m     13\u001b[0m \u001b[0;32mwith\u001b[0m \u001b[0mSession\u001b[0m\u001b[0;34m(\u001b[0m\u001b[0mengine\u001b[0m\u001b[0;34m)\u001b[0m \u001b[0;32mas\u001b[0m \u001b[0msession\u001b[0m\u001b[0;34m:\u001b[0m\u001b[0;34m\u001b[0m\u001b[0;34m\u001b[0m\u001b[0m\n\u001b[0;32m---> 14\u001b[0;31m     \u001b[0msession\u001b[0m\u001b[0;34m.\u001b[0m\u001b[0madd\u001b[0m\u001b[0;34m(\u001b[0m\u001b[0mEntity\u001b[0m\u001b[0;34m(\u001b[0m\u001b[0mcontent\u001b[0m \u001b[0;34m=\u001b[0m \u001b[0mtidb_content\u001b[0m\u001b[0;34m,\u001b[0m \u001b[0mcontent_vec\u001b[0m \u001b[0;34m=\u001b[0m \u001b[0membedding\u001b[0m\u001b[0;34m(\u001b[0m\u001b[0mtidb_content\u001b[0m\u001b[0;34m)\u001b[0m\u001b[0;34m)\u001b[0m\u001b[0;34m)\u001b[0m\u001b[0;34m\u001b[0m\u001b[0;34m\u001b[0m\u001b[0m\n\u001b[0m\u001b[1;32m     15\u001b[0m     \u001b[0msession\u001b[0m\u001b[0;34m.\u001b[0m\u001b[0madd\u001b[0m\u001b[0;34m(\u001b[0m\u001b[0mEntity\u001b[0m\u001b[0;34m(\u001b[0m\u001b[0mcontent\u001b[0m \u001b[0;34m=\u001b[0m \u001b[0mtikv_content\u001b[0m\u001b[0;34m,\u001b[0m \u001b[0mcontent_vec\u001b[0m \u001b[0;34m=\u001b[0m \u001b[0membedding\u001b[0m\u001b[0;34m(\u001b[0m\u001b[0mtikv_content\u001b[0m\u001b[0;34m)\u001b[0m\u001b[0;34m)\u001b[0m\u001b[0;34m)\u001b[0m\u001b[0;34m\u001b[0m\u001b[0;34m\u001b[0m\u001b[0m\n\u001b[1;32m     16\u001b[0m     \u001b[0msession\u001b[0m\u001b[0;34m.\u001b[0m\u001b[0madd\u001b[0m\u001b[0;34m(\u001b[0m\u001b[0mEntity\u001b[0m\u001b[0;34m(\u001b[0m\u001b[0mcontent\u001b[0m \u001b[0;34m=\u001b[0m \u001b[0mpd_content\u001b[0m\u001b[0;34m,\u001b[0m \u001b[0mcontent_vec\u001b[0m \u001b[0;34m=\u001b[0m \u001b[0membedding\u001b[0m\u001b[0;34m(\u001b[0m\u001b[0mpd_content\u001b[0m\u001b[0;34m)\u001b[0m\u001b[0;34m)\u001b[0m\u001b[0;34m)\u001b[0m\u001b[0;34m\u001b[0m\u001b[0;34m\u001b[0m\u001b[0m\n",
            "\u001b[0;32m/tmp/ipython-input-2960200067.py\u001b[0m in \u001b[0;36membedding\u001b[0;34m(content)\u001b[0m\n\u001b[1;32m      1\u001b[0m \u001b[0;32mdef\u001b[0m \u001b[0membedding\u001b[0m\u001b[0;34m(\u001b[0m\u001b[0mcontent\u001b[0m\u001b[0;34m)\u001b[0m\u001b[0;34m:\u001b[0m\u001b[0;34m\u001b[0m\u001b[0;34m\u001b[0m\u001b[0m\n\u001b[0;32m----> 2\u001b[0;31m   \u001b[0mopen_ai_client\u001b[0m \u001b[0;34m=\u001b[0m \u001b[0mopenai\u001b[0m\u001b[0;34m.\u001b[0m\u001b[0mOpenAI\u001b[0m\u001b[0;34m(\u001b[0m\u001b[0mapi_key\u001b[0m\u001b[0;34m=\u001b[0m\u001b[0muserdata\u001b[0m\u001b[0;34m.\u001b[0m\u001b[0mget\u001b[0m\u001b[0;34m(\u001b[0m\u001b[0;34m'OPENAI_API_KEY'\u001b[0m\u001b[0;34m)\u001b[0m\u001b[0;34m)\u001b[0m\u001b[0;34m\u001b[0m\u001b[0;34m\u001b[0m\u001b[0m\n\u001b[0m\u001b[1;32m      3\u001b[0m   return open_ai_client.embeddings.create(\n\u001b[1;32m      4\u001b[0m       input=[content], model=model_name).data[0].embedding\n\u001b[1;32m      5\u001b[0m \u001b[0;34m\u001b[0m\u001b[0m\n",
            "\u001b[0;32m/usr/local/lib/python3.11/dist-packages/google/colab/userdata.py\u001b[0m in \u001b[0;36mget\u001b[0;34m(key)\u001b[0m\n\u001b[1;32m     66\u001b[0m     \u001b[0;32mraise\u001b[0m \u001b[0mTimeoutException\u001b[0m\u001b[0;34m(\u001b[0m\u001b[0mkey\u001b[0m\u001b[0;34m)\u001b[0m\u001b[0;34m\u001b[0m\u001b[0;34m\u001b[0m\u001b[0m\n\u001b[1;32m     67\u001b[0m   \u001b[0;32mif\u001b[0m \u001b[0;32mnot\u001b[0m \u001b[0mresp\u001b[0m\u001b[0;34m.\u001b[0m\u001b[0mget\u001b[0m\u001b[0;34m(\u001b[0m\u001b[0;34m'exists'\u001b[0m\u001b[0;34m,\u001b[0m \u001b[0;32mFalse\u001b[0m\u001b[0;34m)\u001b[0m\u001b[0;34m:\u001b[0m\u001b[0;34m\u001b[0m\u001b[0;34m\u001b[0m\u001b[0m\n\u001b[0;32m---> 68\u001b[0;31m     \u001b[0;32mraise\u001b[0m \u001b[0mSecretNotFoundError\u001b[0m\u001b[0;34m(\u001b[0m\u001b[0mkey\u001b[0m\u001b[0;34m)\u001b[0m\u001b[0;34m\u001b[0m\u001b[0;34m\u001b[0m\u001b[0m\n\u001b[0m\u001b[1;32m     69\u001b[0m   \u001b[0;32mif\u001b[0m \u001b[0;32mnot\u001b[0m \u001b[0mresp\u001b[0m\u001b[0;34m.\u001b[0m\u001b[0mget\u001b[0m\u001b[0;34m(\u001b[0m\u001b[0;34m'access'\u001b[0m\u001b[0;34m,\u001b[0m \u001b[0;32mFalse\u001b[0m\u001b[0;34m)\u001b[0m\u001b[0;34m:\u001b[0m\u001b[0;34m\u001b[0m\u001b[0;34m\u001b[0m\u001b[0m\n\u001b[1;32m     70\u001b[0m     \u001b[0;32mraise\u001b[0m \u001b[0mNotebookAccessError\u001b[0m\u001b[0;34m(\u001b[0m\u001b[0mkey\u001b[0m\u001b[0;34m)\u001b[0m\u001b[0;34m\u001b[0m\u001b[0;34m\u001b[0m\u001b[0m\n",
            "\u001b[0;31mSecretNotFoundError\u001b[0m: Secret OPENAI_API_KEY does not exist."
          ]
        }
      ]
    },
    {
      "cell_type": "markdown",
      "source": [
        "# 4. Retrieve Content via Vector Cosine Distance"
      ],
      "metadata": {
        "id": "tkVwR55KUbMd"
      }
    },
    {
      "cell_type": "code",
      "source": [
        "query = 'What is TiDB?'\n",
        "\n",
        "embedding_query = open_ai_client.embeddings.create(\n",
        "    input=[query], model=model_name).data[0].embedding\n",
        "\n",
        "with Session(engine) as session:\n",
        "    entity = session.query(Entity).order_by(\n",
        "        Entity.content_vec.cosine_distance(embedding_query)\n",
        "    ).limit(1).first()\n",
        "\n",
        "    print(entity.content)"
      ],
      "metadata": {
        "id": "MJTgmS49UhFT"
      },
      "execution_count": null,
      "outputs": []
    }
  ]
}